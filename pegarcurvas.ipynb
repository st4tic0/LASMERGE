{
 "cells": [
  {
   "cell_type": "code",
   "execution_count": 1,
   "metadata": {},
   "outputs": [],
   "source": [
    "import lasio\n",
    "import welly\n",
    "from welly import Well\n",
    "\n",
    "w = lasio.read(r'\data\eval_elan_2050_800_03062014.las')\n",
    "w2 = lasio.read(r'\data\edit_recaligntdt_3250_30_03062014.las')"
   ]
  },
  {
   "cell_type": "code",
   "execution_count": 2,
   "metadata": {},
   "outputs": [],
   "source": [
    "we = Well.from_lasio(w, index = 'm')\n",
    "wee = Well.from_lasio(w2, index = 'm')"
   ]
  },
  {
   "cell_type": "code",
   "execution_count": 6,
   "metadata": {},
   "outputs": [],
   "source": [
    "we.add_curves_from_lasio(w2)"
   ]
  },
  {
   "cell_type": "code",
   "execution_count": 8,
   "metadata": {},
   "outputs": [],
   "source": [
    "r = wee.to_lasio()\n",
    "r.well['GO'] = lasio.HeaderItem(mnemonic = 'GO', value = 20, descr = 'Trial')"
   ]
  },
  {
   "cell_type": "code",
   "execution_count": 9,
   "metadata": {},
   "outputs": [],
   "source": [
    "r.write(r'\data\merged.las')"
   ]
  },
  {
   "cell_type": "code",
   "execution_count": null,
   "metadata": {},
   "outputs": [],
   "source": []
  },
  {
   "cell_type": "code",
   "execution_count": null,
   "metadata": {},
   "outputs": [],
   "source": [
    "type(r)"
   ]
  },
  {
   "cell_type": "code",
   "execution_count": null,
   "metadata": {},
   "outputs": [],
   "source": [
    "we.to_las(r'C:\\Users\\jrogu\\Desktop\\Azzait\\las\\APBJ5\\APBJ\\CDD\\ALAMEDA\\EVALUADOS\\ALAMEDA-1\\pegado3.las')"
   ]
  }
 ],
 "metadata": {
  "kernelspec": {
   "display_name": "Python 3",
   "language": "python",
   "name": "python3"
  },
  "language_info": {
   "codemirror_mode": {
    "name": "ipython",
    "version": 3
   },
   "file_extension": ".py",
   "mimetype": "text/x-python",
   "name": "python",
   "nbconvert_exporter": "python",
   "pygments_lexer": "ipython3",
   "version": "3.8.5"
  }
 },
 "nbformat": 4,
 "nbformat_minor": 4
}
