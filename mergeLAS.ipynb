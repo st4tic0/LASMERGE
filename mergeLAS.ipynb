{
 "cells": [
  {
   "cell_type": "code",
   "execution_count": 1,
   "metadata": {},
   "outputs": [],
   "source": [
    "from welly import Well\n",
    "import lasio"
   ]
  },
  {
   "cell_type": "code",
   "execution_count": 11,
   "metadata": {},
   "outputs": [],
   "source": [
    "#i want to make a web app using streamlite an i cant make welly work with it so i need to use lasio\n",
    "\n",
    "las =  lasio.read('eval_elan_2050_800_03062014.las')\n",
    "\n",
    "las2 =  lasio.read('edit_recaligntdt_3250_30_03062014.las')"
   ]
  },
  {
   "cell_type": "code",
   "execution_count": 12,
   "metadata": {},
   "outputs": [],
   "source": [
    "#change lasioobj to welly obj\n",
    "we = Well.from_lasio(las, index = 'm')\n",
    "wee = Well.from_lasio(las2, index = 'm')"
   ]
  },
  {
   "cell_type": "code",
   "execution_count": 13,
   "metadata": {},
   "outputs": [],
   "source": [
    "#takes curves from las2 to las\n",
    "# las 2 is longer than las but it doesnt seem to be a problem when copyin curves, nice\n",
    "we.add_curves_from_lasio(las2)"
   ]
  },
  {
   "cell_type": "code",
   "execution_count": 14,
   "metadata": {},
   "outputs": [],
   "source": [
    "#move welly obj to lasio to be able to add headeritems, ill be doing some calculations (net pay, tvdss) and i'd like to save the values used(cutoffs and KB)\n",
    "\n",
    "r = we.to_lasio()\n",
    "\n",
    "r.well['KBU'] = lasio.HeaderItem(mnemonic = 'KBU', value = 40, descr = 'KB Usado/Used KB')"
   ]
  },
  {
   "cell_type": "code",
   "execution_count": 15,
   "metadata": {},
   "outputs": [],
   "source": [
    "r.write(r'merged.las')"
   ]
  },
  {
   "cell_type": "code",
   "execution_count": null,
   "metadata": {},
   "outputs": [],
   "source": [
    "#but if im trying to use just welly without changing to lasio"
   ]
  },
  {
   "cell_type": "code",
   "execution_count": 16,
   "metadata": {},
   "outputs": [],
   "source": [
    "we.las.well['KUS'] = lasio.HeaderItem(mnemonic = 'KUS', value = 40, descr = 'KB Usado/Used KB')"
   ]
  },
  {
   "cell_type": "code",
   "execution_count": 17,
   "metadata": {},
   "outputs": [
    {
     "data": {
      "text/plain": [
       "[HeaderItem(mnemonic=\"STRT\", unit=\"M\", value=\"25\", descr=\"First reference value\"),\n",
       " HeaderItem(mnemonic=\"STOP\", unit=\"M\", value=\"3440\", descr=\"Last reference va...),\n",
       " HeaderItem(mnemonic=\"STEP\", unit=\"M\", value=\"0.125\", descr=\"Step increment\"),\n",
       " HeaderItem(mnemonic=\"NULL\", unit=\"\", value=\"-9999\", descr=\"Missing value\"),\n",
       " HeaderItem(mnemonic=\"COMP\", unit=\"\", value=\"\", descr=\"Company\"),\n",
       " HeaderItem(mnemonic=\"WELL\", unit=\"\", value=\"trial-1\", descr=\"Well name\"),\n",
       " HeaderItem(mnemonic=\"FLD\", unit=\"\", value=\"trial\", descr=\"Field\"),\n",
       " HeaderItem(mnemonic=\"LOC\", unit=\"\", value=\"UNKNOWN\", descr=\"Location\"),\n",
       " HeaderItem(mnemonic=\"CNTY\", unit=\"\", value=\"\", descr=\"County\"),\n",
       " HeaderItem(mnemonic=\"STAT\", unit=\"\", value=\"\", descr=\"State\"),\n",
       " HeaderItem(mnemonic=\"CTRY\", unit=\"\", value=\"MEXICO\", descr=\"Country\"),\n",
       " HeaderItem(mnemonic=\"SRVC\", unit=\"\", value=\"UNKNOWN\", descr=\"Service Company\"),\n",
       " HeaderItem(mnemonic=\"DATE\", unit=\"\", value=\"UNKNOWN\", descr=\"Date\"),\n",
       " HeaderItem(mnemonic=\"UWI\", unit=\"\", value=\"20570423\", descr=\"Unique Well ID\"),\n",
       " HeaderItem(mnemonic=\"YCOORD\", unit=\"\", value=\"\", descr=\"SURFACE Y\"),\n",
       " HeaderItem(mnemonic=\"LON\", unit=\"\", value=\"\", descr=\"LONGITUDE\"),\n",
       " HeaderItem(mnemonic=\"XCOORD\", unit=\"\", value=\"\", descr=\"SURFACE X\"),\n",
       " HeaderItem(mnemonic=\"LAT\", unit=\"\", value=\"\", descr=\"LATITUDE\"),\n",
       " HeaderItem(mnemonic=\"ELEV_TYPE\", unit=\"\", value=\"KB\", descr=\"ELEV TYPE\"),\n",
       " HeaderItem(mnemonic=\"ELEV\", unit=\"M\", value=\"7.76\", descr=\"SURFACE ELEV\"),\n",
       " HeaderItem(mnemonic=\"GROUP\", unit=\"\", value=\"trial\", descr=\"\"),\n",
       " HeaderItem(mnemonic=\"ORIGINALWELLNAME\", unit=\"\", value=\"trial-1\", descr=\"\"),\n",
       " HeaderItem(mnemonic=\"KUS\", unit=\"\", value=\"40\", descr=\"KB Usado/Used KB\")]"
      ]
     },
     "execution_count": 17,
     "metadata": {},
     "output_type": "execute_result"
    }
   ],
   "source": [
    "#the new item appears\n",
    "we.las.well"
   ]
  },
  {
   "cell_type": "code",
   "execution_count": 18,
   "metadata": {},
   "outputs": [],
   "source": [
    "we.to_las('merged2.las')"
   ]
  },
  {
   "cell_type": "code",
   "execution_count": null,
   "metadata": {},
   "outputs": [],
   "source": [
    "#but not in the new las"
   ]
  }
 ],
 "metadata": {
  "kernelspec": {
   "display_name": "Python 3",
   "language": "python",
   "name": "python3"
  },
  "language_info": {
   "codemirror_mode": {
    "name": "ipython",
    "version": 3
   },
   "file_extension": ".py",
   "mimetype": "text/x-python",
   "name": "python",
   "nbconvert_exporter": "python",
   "pygments_lexer": "ipython3",
   "version": "3.8.5"
  }
 },
 "nbformat": 4,
 "nbformat_minor": 4
}
